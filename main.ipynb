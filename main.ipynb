{
 "cells": [
  {
   "cell_type": "code",
   "execution_count": null,
   "id": "5bbdd6b5",
   "metadata": {},
   "outputs": [
    {
     "name": "stdout",
     "output_type": "stream",
     "text": [
      "Available Craft Categories:\n",
      "['3D Printing', 'Arduino', 'Art', 'Boats', 'Books & Journals', 'Cardboard', 'Cards', 'Christmas', 'Clay', 'Cleaning', 'Clocks', 'Costumes & Cosplay', 'Digital Graphics', 'Duct Tape', 'Embroidery', 'Fashion', 'Felt', 'Fiber Arts', 'Furniture', 'Gift Wrapping', 'Halloween', 'Holidays', 'Home Improvement', 'Jewelry', 'Kids', 'Knitting & Crochet', 'Knots', 'Launchers', 'Leather', 'Life Hacks', 'Mason Jars', 'Math', 'Metalworking', 'Molds & Casting', 'Music', 'No-Sew', 'Paper', 'Parties & Weddings', 'Photography', 'Printmaking', 'Relationships', 'Reuse', 'Science', 'Sewing', 'Soapmaking', 'Speakers', 'Tools', 'Toys & Games', 'Wallets', 'Water', 'Wearables', 'Woodworking']\n",
      "Choose a Category, or press Enter to include all\n"
     ]
    },
    {
     "name": "stdout",
     "output_type": "stream",
     "text": [
      "Category:  Art\n"
     ]
    },
    {
     "name": "stdout",
     "output_type": "stream",
     "text": [
      "How many projects do you want to see?\n"
     ]
    },
    {
     "name": "stdout",
     "output_type": "stream",
     "text": [
      "Number (1-20):  10\n",
      "Enter 1 for most viewed or 2 for most favorited:  1\n"
     ]
    },
    {
     "data": {
      "text/html": [
       "<table border=\"1\" class=\"dataframe\">\n",
       "  <thead>\n",
       "    <tr style=\"text-align: right;\">\n",
       "      <th>Clickable Project Title</th>\n",
       "      <th>Views</th>\n",
       "      <th>Favorites</th>\n",
       "      <th>Subcategory</th>\n",
       "    </tr>\n",
       "  </thead>\n",
       "  <tbody>\n",
       "    <tr>\n",
       "      <td><a href=\"https://www.instructables.com/id/How-To-Draw-8/\" target=\"_blank\">How To Draw</a></td>\n",
       "      <td>2500000</td>\n",
       "      <td>1105</td>\n",
       "      <td>Art</td>\n",
       "    </tr>\n",
       "    <tr>\n",
       "      <td><a href=\"https://www.instructables.com/id/DIY-String-Art-Tutorial/\" target=\"_blank\">DIY String Art Tutorial</a></td>\n",
       "      <td>1600000</td>\n",
       "      <td>722</td>\n",
       "      <td>Art</td>\n",
       "    </tr>\n",
       "    <tr>\n",
       "      <td><a href=\"https://www.instructables.com/id/How-to-make-an-awesome-pencil-sketch-of-any-photog/\" target=\"_blank\">How to make an awesome pencil sketch of any photograph</a></td>\n",
       "      <td>1600000</td>\n",
       "      <td>332</td>\n",
       "      <td>Art</td>\n",
       "    </tr>\n",
       "    <tr>\n",
       "      <td><a href=\"https://www.instructables.com/id/How-to-color-a-black-and-white-photo/\" target=\"_blank\">How to color a black and white photo</a></td>\n",
       "      <td>1500000</td>\n",
       "      <td>309</td>\n",
       "      <td>Art</td>\n",
       "    </tr>\n",
       "    <tr>\n",
       "      <td><a href=\"https://www.instructables.com/id/Turn-Yourself-Into-a-Cartoon/\" target=\"_blank\">Turn Yourself Into a Cartoon</a></td>\n",
       "      <td>1500000</td>\n",
       "      <td>484</td>\n",
       "      <td>Art</td>\n",
       "    </tr>\n",
       "    <tr>\n",
       "      <td><a href=\"https://www.instructables.com/id/How-to-do-3D-Anamorphic-Artwork-and-Sidewalk-Stre/\" target=\"_blank\">How to do 3D Anamorphic Artwork and Sidewalk, Street, and Driveway  Art</a></td>\n",
       "      <td>1400000</td>\n",
       "      <td>581</td>\n",
       "      <td>Art</td>\n",
       "    </tr>\n",
       "    <tr>\n",
       "      <td><a href=\"https://www.instructables.com/id/Image-Transfers-with-Acrylic-Gel-Medium/\" target=\"_blank\">Image Transfers with Acrylic Gel Medium</a></td>\n",
       "      <td>1100000</td>\n",
       "      <td>510</td>\n",
       "      <td>Art</td>\n",
       "    </tr>\n",
       "    <tr>\n",
       "      <td><a href=\"https://www.instructables.com/id/How-to-PlastiDip-Your-Cars-Rims-Matte-Black/\" target=\"_blank\">How to PlastiDip Your Car's Rims Matte Black Without Tire Removal!</a></td>\n",
       "      <td>881000</td>\n",
       "      <td>72</td>\n",
       "      <td>Art</td>\n",
       "    </tr>\n",
       "    <tr>\n",
       "      <td><a href=\"https://www.instructables.com/id/DIY-Cardboard-Deer-Head/\" target=\"_blank\">DIY Cardboard Deer Head</a></td>\n",
       "      <td>752000</td>\n",
       "      <td>495</td>\n",
       "      <td>Art</td>\n",
       "    </tr>\n",
       "    <tr>\n",
       "      <td><a href=\"https://www.instructables.com/id/How-To-Stained-Glass/\" target=\"_blank\">How To: Stained Glass</a></td>\n",
       "      <td>598000</td>\n",
       "      <td>435</td>\n",
       "      <td>Art</td>\n",
       "    </tr>\n",
       "  </tbody>\n",
       "</table>"
      ],
      "text/plain": [
       "<IPython.core.display.HTML object>"
      ]
     },
     "metadata": {},
     "output_type": "display_data"
    }
   ],
   "source": [
    "import pandas as pd\n",
    "import requests\n",
    "from bs4 import BeautifulSoup\n",
    "import openai\n",
    "import table\n",
    "import filter\n",
    "from openai import OpenAI\n",
    "from keys import open_ai_api_key\n",
    "from IPython.display import HTML, display\n",
    "\n",
    "#  Import excel data into panda frames\n",
    "\n",
    "craft_data = pd.read_csv(r\"data\\projects_craft.csv\")\n",
    "top_viewed = filter.get_by_user_input(craft_data)\n",
    "table.display_table(top_viewed)"
   ]
  }
 ],
 "metadata": {
  "kernelspec": {
   "display_name": "Python 3",
   "language": "python",
   "name": "python3"
  },
  "language_info": {
   "codemirror_mode": {
    "name": "ipython",
    "version": 3
   },
   "file_extension": ".py",
   "mimetype": "text/x-python",
   "name": "python",
   "nbconvert_exporter": "python",
   "pygments_lexer": "ipython3",
   "version": "3.13.9"
  }
 },
 "nbformat": 4,
 "nbformat_minor": 5
}
